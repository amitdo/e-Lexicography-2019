{
 "cells": [
  {
   "cell_type": "markdown",
   "metadata": {},
   "source": [
    "# Linguistic annotation with `Python`\n",
    "\n",
    "`Python` is a highly versatile programming language which offers a great number of\n",
    "libraries which greatly support your work as digital lexicographer.\n",
    "\n",
    "This notebook is supposed to illustrate the different levels of automatic linguistic\n",
    "annotation used in the course.\n",
    "\n",
    "## Libraries used in the course\n",
    "\n",
    "We use the wonderful [Natural Language Toolkit](https://www.nltk.org/) which comes\n",
    "with a great set of tools and resources. In addition, [spaCy](https://spacy.io/) is\n",
    "used. It has a smaller range of functionalities but is a lot faster and uses state-\n",
    "of-the-art algorithms (namely deep learning approaches).\n",
    "\n",
    "## Setup\n",
    "\n",
    "We assume that you have a working `Python3` installation. The following instructions\n",
    "are tailored to Linux and MacOS but should -- with minor modifications -- work on\n",
    "Windows as well.\n",
    "\n",
    "### `pip`\n",
    "\n",
    "`pip` is the package manager for `Python`. From version 3.4 on, it ships with `Python`. \n",
    "\n",
    "### `virtualenv`\n",
    "\n",
    "`virtualenv` allows you to setup local (and clean) `Python` environments. It may be\n",
    "installed via\n",
    "```sh\n",
    "[sudo] pip install virtualenv\n",
    "```\n",
    "\n",
    "Create a virtual environement in a subdirectory of your choice (e.g. `env`) using\n",
    "```sh\n",
    "virtualenv -p python3 env\n",
    "```\n",
    "\n",
    "and activate it.\n",
    "```sh\n",
    ". env/bin/activate\n",
    "```\n",
    "\n",
    "### `NLTK` and `spaCy`\n",
    "\n",
    "3rd party Python packages (including `NLTK` and `spaCy`) may best be installed using `pip`:\n",
    "```sh\n",
    "(env) pip install -r requirements.txt\n",
    "```\n",
    "\n",
    "## Testing\n",
    "\n",
    "Now, we are ready to roll. Start `Python`:\n",
    "```sh\n",
    "(env) python\n",
    "```"
   ]
  },
  {
   "cell_type": "markdown",
   "metadata": {},
   "source": [
    "### `NLTK`\n",
    "\n",
    "`NLTK` itself provides a high-level API to numerous NLP tools. Before we can use them, they\n",
    "have to be installed.\n",
    "\n",
    "#### Tokenization"
   ]
  },
  {
   "cell_type": "code",
   "execution_count": 2,
   "metadata": {},
   "outputs": [
    {
     "name": "stderr",
     "output_type": "stream",
     "text": [
      "[nltk_data] Downloading package punkt to /Users/kmw/nltk_data...\n",
      "[nltk_data]   Package punkt is already up-to-date!\n"
     ]
    },
    {
     "data": {
      "text/plain": [
       "True"
      ]
     },
     "execution_count": 2,
     "metadata": {},
     "output_type": "execute_result"
    }
   ],
   "source": [
    "import nltk\n",
    "nltk.download('punkt')"
   ]
  },
  {
   "cell_type": "markdown",
   "metadata": {},
   "source": [
    "We are now ready to do some work:"
   ]
  },
  {
   "cell_type": "code",
   "execution_count": 4,
   "metadata": {},
   "outputs": [
    {
     "name": "stdout",
     "output_type": "stream",
     "text": [
      "['This', 'shows', 'NLTK', \"'s\", 'potentials', '.']\n"
     ]
    }
   ],
   "source": [
    "sentence = \"This shows NLTK's potentials.\"\n",
    "tokens = nltk.word_tokenize(sentence)\n",
    "print(tokens)"
   ]
  },
  {
   "cell_type": "markdown",
   "metadata": {},
   "source": [
    "#### Morphological analysis\n",
    "\n",
    "Let's go for stemming!"
   ]
  },
  {
   "cell_type": "code",
   "execution_count": 5,
   "metadata": {},
   "outputs": [
    {
     "name": "stdout",
     "output_type": "stream",
     "text": [
      "this\n",
      "show\n",
      "nltk\n",
      "'s\n",
      "potenti\n",
      ".\n"
     ]
    }
   ],
   "source": [
    "from nltk.stem.snowball import SnowballStemmer\n",
    "stemmer = SnowballStemmer(\"english\")\n",
    "for token in tokens:\n",
    "    print(stemmer.stem(token))"
   ]
  },
  {
   "cell_type": "markdown",
   "metadata": {},
   "source": [
    "Not very impressive?"
   ]
  },
  {
   "cell_type": "code",
   "execution_count": 7,
   "metadata": {},
   "outputs": [
    {
     "name": "stderr",
     "output_type": "stream",
     "text": [
      "[nltk_data] Downloading package wordnet to /Users/kmw/nltk_data...\n",
      "[nltk_data]   Unzipping corpora/wordnet.zip.\n"
     ]
    },
    {
     "name": "stdout",
     "output_type": "stream",
     "text": [
      "This\n",
      "show\n",
      "NLTK\n",
      "'s\n",
      "potential\n",
      ".\n"
     ]
    }
   ],
   "source": [
    "nltk.download('wordnet')\n",
    "from nltk.stem import WordNetLemmatizer\n",
    "lemmatizer = WordNetLemmatizer()\n",
    "for token in tokens:\n",
    "    print(lemmatizer.lemmatize(token))"
   ]
  },
  {
   "cell_type": "markdown",
   "metadata": {},
   "source": [
    "#### PoS tagging"
   ]
  },
  {
   "cell_type": "code",
   "execution_count": 12,
   "metadata": {},
   "outputs": [
    {
     "name": "stdout",
     "output_type": "stream",
     "text": [
      "('This', 'DT')\n",
      "('shows', 'VBZ')\n",
      "('NLTK', 'NNP')\n",
      "(\"'s\", 'POS')\n",
      "('potentials', 'NNS')\n",
      "('.', '.')\n"
     ]
    },
    {
     "name": "stderr",
     "output_type": "stream",
     "text": [
      "[nltk_data] Downloading package averaged_perceptron_tagger to\n",
      "[nltk_data]     /Users/kmw/nltk_data...\n",
      "[nltk_data]   Package averaged_perceptron_tagger is already up-to-\n",
      "[nltk_data]       date!\n"
     ]
    }
   ],
   "source": [
    "nltk.download('averaged_perceptron_tagger')\n",
    "pos_tags = nltk.pos_tag(tokens)\n",
    "for pos_tag in pos_tags:\n",
    "    print(pos_tag)"
   ]
  },
  {
   "cell_type": "markdown",
   "metadata": {},
   "source": [
    "Now, what about the tagset?"
   ]
  },
  {
   "cell_type": "code",
   "execution_count": 13,
   "metadata": {},
   "outputs": [
    {
     "name": "stderr",
     "output_type": "stream",
     "text": [
      "[nltk_data] Downloading package tagsets to /Users/kmw/nltk_data...\n"
     ]
    },
    {
     "name": "stdout",
     "output_type": "stream",
     "text": [
      "NNS: noun, common, plural\n",
      "    undergraduates scotches bric-a-brac products bodyguards facets coasts\n",
      "    divestitures storehouses designs clubs fragrances averages\n",
      "    subjectivists apprehensions muses factory-jobs ...\n"
     ]
    },
    {
     "name": "stderr",
     "output_type": "stream",
     "text": [
      "[nltk_data]   Unzipping help/tagsets.zip.\n"
     ]
    }
   ],
   "source": [
    "nltk.download('tagsets')\n",
    "nltk.help.upenn_tagset('NNS')"
   ]
  },
  {
   "cell_type": "markdown",
   "metadata": {},
   "source": [
    "There is no German tagger available with NLTK. Let's try to train one.\n",
    "First, we have to obtain a training corpus:"
   ]
  },
  {
   "cell_type": "code",
   "execution_count": 4,
   "metadata": {},
   "outputs": [
    {
     "data": {
      "text/plain": [
       "('tigercorpus-2.2.conll09.tar.gz', <http.client.HTTPMessage at 0x10cd40828>)"
      ]
     },
     "execution_count": 4,
     "metadata": {},
     "output_type": "execute_result"
    }
   ],
   "source": [
    "url = 'http://www.ims.uni-stuttgart.de/forschung/ressourcen/korpora/TIGERCorpus/download/tigercorpus-2.2.conll09.tar.gz'\n",
    "from urllib import request\n",
    "request.urlretrieve(url, 'tigercorpus-2.2.conll09.tar.gz')"
   ]
  },
  {
   "cell_type": "markdown",
   "metadata": {},
   "source": [
    "Then, uncompress it:"
   ]
  },
  {
   "cell_type": "code",
   "execution_count": 6,
   "metadata": {},
   "outputs": [],
   "source": [
    "import tarfile\n",
    "import shutil\n",
    "tar = tarfile.open('tigercorpus-2.2.conll09.tar.gz', mode='r:gz')\n",
    "tar.extractall()\n",
    "tar.close()"
   ]
  },
  {
   "cell_type": "markdown",
   "metadata": {},
   "source": [
    "Read it with NLTK:"
   ]
  },
  {
   "cell_type": "code",
   "execution_count": 2,
   "metadata": {},
   "outputs": [],
   "source": [
    "import nltk\n",
    "corp = nltk.corpus.ConllCorpusReader('.', 'tiger_release_aug07.corrected.16012013.conll09',\n",
    "                                     ['ignore', 'words', 'ignore', 'ignore', 'pos'],\n",
    "                                     encoding='utf-8')"
   ]
  },
  {
   "cell_type": "markdown",
   "metadata": {},
   "source": [
    "Split into training and test:"
   ]
  },
  {
   "cell_type": "code",
   "execution_count": 9,
   "metadata": {},
   "outputs": [
    {
     "name": "stdout",
     "output_type": "stream",
     "text": [
      "[('Der', 'ART'), ('Politologe', 'NN'), ('Hans-Gerd', 'NE'), ('Jaschke', 'NE'), ('über', 'APPR'), ('den', 'ART'), ('hilflosen', 'ADJA'), ('Umgang', 'NN'), ('mit', 'APPR'), ('Rechtsradikalen', 'NN')]\n"
     ]
    }
   ],
   "source": [
    "import random\n",
    "\n",
    "tagged_sents = corp.tagged_sents()[0:1000]\n",
    "\n",
    "# set a split size: use 90% for training, 10% for testing\n",
    "split_perc = 0.1\n",
    "split_size = int(len(tagged_sents) * split_perc)\n",
    "train_sents, test_sents = tagged_sents[split_size:], tagged_sents[:split_size]\n",
    "print(train_sents[0])"
   ]
  },
  {
   "cell_type": "markdown",
   "metadata": {},
   "source": [
    "Train a tagger:"
   ]
  },
  {
   "cell_type": "code",
   "execution_count": 10,
   "metadata": {},
   "outputs": [
    {
     "data": {
      "text/plain": [
       "[[('Das', 'PDS'), ('ist', 'VAFIN'), ('schön', 'PTKVZ'), ('.', '$.')],\n",
       " [('Funktioniert', 'VVFIN'), ('es', 'PPER'), ('?', '$.')]]"
      ]
     },
     "execution_count": 10,
     "metadata": {},
     "output_type": "execute_result"
    }
   ],
   "source": [
    "from nltk.tag import CRFTagger\n",
    "\n",
    "ct = CRFTagger()\n",
    "ct.train(train_sents,'model.crf.tagger')\n",
    "ct.tag_sents([['Das','ist','schön', '.'], ['Funktioniert','es','?']])"
   ]
  },
  {
   "cell_type": "markdown",
   "metadata": {
    "slideshow": {
     "slide_type": "-"
    }
   },
   "source": [
    "Evaluate it:"
   ]
  },
  {
   "cell_type": "code",
   "execution_count": 11,
   "metadata": {},
   "outputs": [
    {
     "data": {
      "text/plain": [
       "0.8876651982378855"
      ]
     },
     "execution_count": 11,
     "metadata": {},
     "output_type": "execute_result"
    }
   ],
   "source": [
    "ct.evaluate(test_sents)"
   ]
  },
  {
   "cell_type": "markdown",
   "metadata": {},
   "source": [
    "#### Collocations"
   ]
  },
  {
   "cell_type": "code",
   "execution_count": 31,
   "metadata": {},
   "outputs": [
    {
     "name": "stderr",
     "output_type": "stream",
     "text": [
      "[nltk_data] Downloading package brown to /Users/kmw/nltk_data...\n",
      "[nltk_data]   Package brown is already up-to-date!\n"
     ]
    },
    {
     "name": "stdout",
     "output_type": "stream",
     "text": [
      "[('$115,000', 'annually'), ('$157,460', 'yearly'), ('100,000', 'recipients'), ('12,000', 'babies'), ('1311', 'acre'), ('1409', 'SW'), ('182', 'scholastics'), ('330', 'Woodland'), ('Abe', 'Stark'), ('Al', 'Ullman')]\n",
      "[('$115,000', 'annually'), ('$157,460', 'yearly'), ('100,000', 'recipients'), ('12,000', 'babies'), ('1311', 'acre'), ('1409', 'SW'), ('182', 'scholastics'), ('330', 'Woodland'), ('Abe', 'Stark'), ('Al', 'Ullman')]\n",
      "[('.', 'The'), ('of', 'the'), ('.', 'He'), (\"''\", '.'), ('has', 'been'), ('in', 'the'), ('United', 'States'), ('would', 'be'), ('will', 'be'), ('more', 'than')]\n",
      "[('.', 'The'), ('of', 'the'), ('in', 'the'), (\"''\", '.'), ('.', 'He'), ('on', 'the'), ('.', '``'), ('for', 'the'), (\"''\", ','), ('has', 'been')]\n"
     ]
    }
   ],
   "source": [
    "import nltk\n",
    "nltk.download('brown')\n",
    "from nltk.corpus import brown\n",
    "from nltk.collocations import *\n",
    "bigram_measures = nltk.collocations.BigramAssocMeasures()\n",
    "finder = BigramCollocationFinder.from_words(brown.words(brown.fileids()[0:10]))\n",
    "print(finder.nbest(bigram_measures.pmi, 10))\n",
    "print(finder.nbest(bigram_measures.chi_sq, 10))\n",
    "print(finder.nbest(bigram_measures.likelihood_ratio, 10))\n",
    "print(finder.nbest(bigram_measures.student_t, 10))"
   ]
  },
  {
   "cell_type": "code",
   "execution_count": 27,
   "metadata": {},
   "outputs": [
    {
     "name": "stdout",
     "output_type": "stream",
     "text": [
      "[('The', 'DT'), ('Fulton', 'NNP'), ('County', 'NNP'), ('Grand', 'NNP'), ('Jury', 'NNP'), ('said', 'VBD'), ('Friday', 'NNP'), ('an', 'DT'), ('investigation', 'NN'), ('of', 'IN'), (\"Atlanta's\", 'NNP'), ('recent', 'JJ'), ('primary', 'JJ'), ('election', 'NN'), ('produced', 'VBD'), ('``', '``'), ('no', 'DT'), ('evidence', 'NN'), (\"''\", \"''\"), ('that', 'IN'), ('any', 'DT'), ('irregularities', 'NNS'), ('took', 'VBD'), ('place', 'NN'), ('.', '.')]\n",
      "[('The', 'DT'), ('jury', 'NN'), ('further', 'RB'), ('said', 'VBD'), ('in', 'IN'), ('term-end', 'JJ'), ('presentments', 'NNS'), ('that', 'IN'), ('the', 'DT'), ('City', 'NNP'), ('Executive', 'NNP'), ('Committee', 'NNP'), (',', ','), ('which', 'WDT'), ('had', 'VBD'), ('over-all', 'JJ'), ('charge', 'NN'), ('of', 'IN'), ('the', 'DT'), ('election', 'NN'), (',', ','), ('``', '``'), ('deserves', 'VBZ'), ('the', 'DT'), ('praise', 'NN'), ('and', 'CC'), ('thanks', 'NNS'), ('of', 'IN'), ('the', 'DT'), ('City', 'NNP'), ('of', 'IN'), ('Atlanta', 'NNP'), (\"''\", \"''\"), ('for', 'IN'), ('the', 'DT'), ('manner', 'NN'), ('in', 'IN'), ('which', 'WDT'), ('the', 'DT'), ('election', 'NN'), ('was', 'VBD'), ('conducted', 'VBN'), ('.', '.')]\n",
      "[('The', 'DT'), ('September-October', 'NNP'), ('term', 'NN'), ('jury', 'NN'), ('had', 'VBD'), ('been', 'VBN'), ('charged', 'VBN'), ('by', 'IN'), ('Fulton', 'NNP'), ('Superior', 'NNP'), ('Court', 'NNP'), ('Judge', 'NNP'), ('Durwood', 'NNP'), ('Pye', 'NNP'), ('to', 'TO'), ('investigate', 'VB'), ('reports', 'NNS'), ('of', 'IN'), ('possible', 'JJ'), ('``', '``'), ('irregularities', 'NNS'), (\"''\", \"''\"), ('in', 'IN'), ('the', 'DT'), ('hard-fought', 'JJ'), ('primary', 'NN'), ('which', 'WDT'), ('was', 'VBD'), ('won', 'VBN'), ('by', 'IN'), ('Mayor-nominate', 'NNP'), ('Ivan', 'NNP'), ('Allen', 'NNP'), ('Jr.', 'NNP'), ('.', '.')]\n",
      "[('``', '``'), ('Only', 'RB'), ('a', 'DT'), ('relative', 'JJ'), ('handful', 'NN'), ('of', 'IN'), ('such', 'JJ'), ('reports', 'NNS'), ('was', 'VBD'), ('received', 'VBN'), (\"''\", \"''\"), (',', ','), ('the', 'DT'), ('jury', 'NN'), ('said', 'VBD'), (',', ','), ('``', '``'), ('considering', 'VBG'), ('the', 'DT'), ('widespread', 'JJ'), ('interest', 'NN'), ('in', 'IN'), ('the', 'DT'), ('election', 'NN'), (',', ','), ('the', 'DT'), ('number', 'NN'), ('of', 'IN'), ('voters', 'NNS'), ('and', 'CC'), ('the', 'DT'), ('size', 'NN'), ('of', 'IN'), ('this', 'DT'), ('city', 'NN'), (\"''\", \"''\"), ('.', '.')]\n",
      "[('The', 'DT'), ('jury', 'NN'), ('said', 'VBD'), ('it', 'PRP'), ('did', 'VBD'), ('find', 'VB'), ('that', 'IN'), ('many', 'JJ'), ('of', 'IN'), (\"Georgia's\", 'NNP'), ('registration', 'NN'), ('and', 'CC'), ('election', 'NN'), ('laws', 'NNS'), ('``', '``'), ('are', 'VBP'), ('outmoded', 'VBN'), ('or', 'CC'), ('inadequate', 'JJ'), ('and', 'CC'), ('often', 'RB'), ('ambiguous', 'JJ'), (\"''\", \"''\"), ('.', '.')]\n",
      "[('It', 'PRP'), ('recommended', 'VBD'), ('that', 'IN'), ('Fulton', 'NNP'), ('legislators', 'NNS'), ('act', 'VBP'), ('``', '``'), ('to', 'TO'), ('have', 'VB'), ('these', 'DT'), ('laws', 'NNS'), ('studied', 'VBD'), ('and', 'CC'), ('revised', 'VBD'), ('to', 'TO'), ('the', 'DT'), ('end', 'NN'), ('of', 'IN'), ('modernizing', 'NN'), ('and', 'CC'), ('improving', 'VBG'), ('them', 'PRP'), (\"''\", \"''\"), ('.', '.')]\n",
      "[('The', 'DT'), ('grand', 'JJ'), ('jury', 'NN'), ('commented', 'VBD'), ('on', 'IN'), ('a', 'DT'), ('number', 'NN'), ('of', 'IN'), ('other', 'JJ'), ('topics', 'NNS'), (',', ','), ('among', 'IN'), ('them', 'PRP'), ('the', 'DT'), ('Atlanta', 'NNP'), ('and', 'CC'), ('Fulton', 'NNP'), ('County', 'NNP'), ('purchasing', 'NN'), ('departments', 'NNS'), ('which', 'WDT'), ('it', 'PRP'), ('said', 'VBD'), ('``', '``'), ('are', 'VBP'), ('well', 'RB'), ('operated', 'VBN'), ('and', 'CC'), ('follow', 'VB'), ('generally', 'RB'), ('accepted', 'VBN'), ('practices', 'NNS'), ('which', 'WDT'), ('inure', 'VBP'), ('to', 'TO'), ('the', 'DT'), ('best', 'JJS'), ('interest', 'NN'), ('of', 'IN'), ('both', 'DT'), ('governments', 'NNS'), (\"''\", \"''\"), ('.', '.')]\n",
      "[('Merger', 'NN'), ('proposed', 'VBD')]\n",
      "[('However', 'RB'), (',', ','), ('the', 'DT'), ('jury', 'NN'), ('said', 'VBD'), ('it', 'PRP'), ('believes', 'VBZ'), ('``', '``'), ('these', 'DT'), ('two', 'CD'), ('offices', 'NNS'), ('should', 'MD'), ('be', 'VB'), ('combined', 'VBN'), ('to', 'TO'), ('achieve', 'VB'), ('greater', 'JJR'), ('efficiency', 'NN'), ('and', 'CC'), ('reduce', 'VB'), ('the', 'DT'), ('cost', 'NN'), ('of', 'IN'), ('administration', 'NN'), (\"''\", \"''\"), ('.', '.')]\n",
      "[('The', 'DT'), ('City', 'NNP'), ('Purchasing', 'NNP'), ('Department', 'NNP'), (',', ','), ('the', 'DT'), ('jury', 'NN'), ('said', 'VBD'), (',', ','), ('``', '``'), ('is', 'VBZ'), ('lacking', 'VBG'), ('in', 'IN'), ('experienced', 'JJ'), ('clerical', 'JJ'), ('personnel', 'NNS'), ('as', 'IN'), ('a', 'DT'), ('result', 'NN'), ('of', 'IN'), ('city', 'NN'), ('personnel', 'NNS'), ('policies', 'NNS'), (\"''\", \"''\"), ('.', '.')]\n",
      "[('It', 'PRP'), ('urged', 'VBD'), ('that', 'IN'), ('the', 'DT'), ('city', 'NN'), ('``', '``'), ('take', 'VB'), ('steps', 'NNS'), ('to', 'TO'), ('remedy', 'VB'), (\"''\", \"''\"), ('this', 'DT'), ('problem', 'NN'), ('.', '.')]\n",
      "[('Implementation', 'NN'), ('of', 'IN'), (\"Georgia's\", 'NNP'), ('automobile', 'NN'), ('title', 'NN'), ('law', 'NN'), ('was', 'VBD'), ('also', 'RB'), ('recommended', 'VBN'), ('by', 'IN'), ('the', 'DT'), ('outgoing', 'JJ'), ('jury', 'NN'), ('.', '.')]\n",
      "[('It', 'PRP'), ('urged', 'VBD'), ('that', 'IN'), ('the', 'DT'), ('next', 'JJ'), ('Legislature', 'NNP'), ('``', '``'), ('provide', 'VB'), ('enabling', 'VBG'), ('funds', 'NNS'), ('and', 'CC'), ('re-set', 'VB'), ('the', 'DT'), ('effective', 'JJ'), ('date', 'NN'), ('so', 'RB'), ('that', 'IN'), ('an', 'DT'), ('orderly', 'JJ'), ('implementation', 'NN'), ('of', 'IN'), ('the', 'DT'), ('law', 'NN'), ('may', 'MD'), ('be', 'VB'), ('effected', 'VBN'), (\"''\", \"''\"), ('.', '.')]\n",
      "[('The', 'DT'), ('grand', 'JJ'), ('jury', 'NN'), ('took', 'VBD'), ('a', 'DT'), ('swipe', 'NN'), ('at', 'IN'), ('the', 'DT'), ('State', 'NNP'), ('Welfare', 'NNP'), (\"Department's\", 'NNP'), ('handling', 'NN'), ('of', 'IN'), ('federal', 'JJ'), ('funds', 'NNS'), ('granted', 'VBN'), ('for', 'IN'), ('child', 'NN'), ('welfare', 'NN'), ('services', 'NNS'), ('in', 'IN'), ('foster', 'JJ'), ('homes', 'NNS'), ('.', '.')]\n",
      "[('``', '``'), ('This', 'DT'), ('is', 'VBZ'), ('one', 'CD'), ('of', 'IN'), ('the', 'DT'), ('major', 'JJ'), ('items', 'NNS'), ('in', 'IN'), ('the', 'DT'), ('Fulton', 'NNP'), ('County', 'NNP'), ('general', 'JJ'), ('assistance', 'NN'), ('program', 'NN'), (\"''\", \"''\"), (',', ','), ('the', 'DT'), ('jury', 'NN'), ('said', 'VBD'), (',', ','), ('but', 'CC'), ('the', 'DT'), ('State', 'NNP'), ('Welfare', 'NNP'), ('Department', 'NNP'), ('``', '``'), ('has', 'VBZ'), ('seen', 'VBN'), ('fit', 'NN'), ('to', 'TO'), ('distribute', 'VB'), ('these', 'DT'), ('funds', 'NNS'), ('through', 'IN'), ('the', 'DT'), ('welfare', 'NN'), ('departments', 'NNS'), ('of', 'IN'), ('all', 'PDT'), ('the', 'DT'), ('counties', 'NNS'), ('in', 'IN'), ('the', 'DT'), ('state', 'NN'), ('with', 'IN'), ('the', 'DT'), ('exception', 'NN'), ('of', 'IN'), ('Fulton', 'NNP'), ('County', 'NNP'), (',', ','), ('which', 'WDT'), ('receives', 'VBZ'), ('none', 'NN'), ('of', 'IN'), ('this', 'DT'), ('money', 'NN'), ('.', '.')]\n",
      "[('The', 'DT'), ('jurors', 'NNS'), ('said', 'VBD'), ('they', 'PRP'), ('realize', 'VBP'), ('``', '``'), ('a', 'DT'), ('proportionate', 'JJ'), ('distribution', 'NN'), ('of', 'IN'), ('these', 'DT'), ('funds', 'NNS'), ('might', 'MD'), ('disable', 'VB'), ('this', 'DT'), ('program', 'NN'), ('in', 'IN'), ('our', 'PRP$'), ('less', 'CC'), ('populous', 'JJ'), ('counties', 'NNS'), (\"''\", \"''\"), ('.', '.')]\n",
      "[('Nevertheless', 'RB'), (',', ','), ('``', '``'), ('we', 'PRP'), ('feel', 'VBP'), ('that', 'IN'), ('in', 'IN'), ('the', 'DT'), ('future', 'JJ'), ('Fulton', 'NNP'), ('County', 'NNP'), ('should', 'MD'), ('receive', 'VB'), ('some', 'DT'), ('portion', 'NN'), ('of', 'IN'), ('these', 'DT'), ('available', 'JJ'), ('funds', 'NNS'), (\"''\", \"''\"), (',', ','), ('the', 'DT'), ('jurors', 'NNS'), ('said', 'VBD'), ('.', '.')]\n",
      "[('``', '``'), ('Failure', 'NN'), ('to', 'TO'), ('do', 'VB'), ('this', 'DT'), ('will', 'MD'), ('continue', 'VB'), ('to', 'TO'), ('place', 'VB'), ('a', 'DT'), ('disproportionate', 'NN'), ('burden', 'NN'), (\"''\", \"''\"), ('on', 'IN'), ('Fulton', 'NNP'), ('taxpayers', 'NNS'), ('.', '.')]\n",
      "[('The', 'DT'), ('jury', 'NN'), ('also', 'RB'), ('commented', 'VBN'), ('on', 'IN'), ('the', 'DT'), ('Fulton', 'NNP'), (\"ordinary's\", 'MD'), ('court', 'NN'), ('which', 'WDT'), ('has', 'VBZ'), ('been', 'VBN'), ('under', 'IN'), ('fire', 'NN'), ('for', 'IN'), ('its', 'PRP$'), ('practices', 'NNS'), ('in', 'IN'), ('the', 'DT'), ('appointment', 'NN'), ('of', 'IN'), ('appraisers', 'NNS'), (',', ','), ('guardians', 'NNS'), ('and', 'CC'), ('administrators', 'NNS'), ('and', 'CC'), ('the', 'DT'), ('awarding', 'NN'), ('of', 'IN'), ('fees', 'NNS'), ('and', 'CC'), ('compensation', 'NN'), ('.', '.')]\n",
      "[('Wards', 'NNS'), ('protected', 'VBD')]\n",
      "[('The', 'DT'), ('jury', 'NN'), ('said', 'VBD'), ('it', 'PRP'), ('found', 'VBD'), ('the', 'DT'), ('court', 'NN'), ('``', '``'), ('has', 'VBZ'), ('incorporated', 'VBN'), ('into', 'IN'), ('its', 'PRP$'), ('operating', 'NN'), ('procedures', 'VBZ'), ('the', 'DT'), ('recommendations', 'NNS'), (\"''\", \"''\"), ('of', 'IN'), ('two', 'CD'), ('previous', 'JJ'), ('grand', 'JJ'), ('juries', 'NNS'), (',', ','), ('the', 'DT'), ('Atlanta', 'NNP'), ('Bar', 'NNP'), ('Association', 'NNP'), ('and', 'CC'), ('an', 'DT'), ('interim', 'JJ'), ('citizens', 'NNS'), ('committee', 'NN'), ('.', '.')]\n",
      "[('``', '``'), ('These', 'DT'), ('actions', 'NNS'), ('should', 'MD'), ('serve', 'VB'), ('to', 'TO'), ('protect', 'VB'), ('in', 'IN'), ('fact', 'NN'), ('and', 'CC'), ('in', 'IN'), ('effect', 'NN'), ('the', 'DT'), (\"court's\", 'NN'), ('wards', 'NNS'), ('from', 'IN'), ('undue', 'JJ'), ('costs', 'NNS'), ('and', 'CC'), ('its', 'PRP$'), ('appointed', 'VBN'), ('and', 'CC'), ('elected', 'VBN'), ('servants', 'NNS'), ('from', 'IN'), ('unmeritorious', 'JJ'), ('criticisms', 'NNS'), (\"''\", \"''\"), (',', ','), ('the', 'DT'), ('jury', 'NN'), ('said', 'VBD'), ('.', '.')]\n",
      "[('Regarding', 'VBG'), (\"Atlanta's\", 'NNP'), ('new', 'JJ'), ('multi-million-dollar', 'JJ'), ('airport', 'NN'), (',', ','), ('the', 'DT'), ('jury', 'NN'), ('recommended', 'VBD'), ('``', '``'), ('that', 'IN'), ('when', 'WRB'), ('the', 'DT'), ('new', 'JJ'), ('management', 'NN'), ('takes', 'VBZ'), ('charge', 'NN'), ('Jan.', 'NNP'), ('1', 'CD'), ('the', 'DT'), ('airport', 'NN'), ('be', 'VB'), ('operated', 'VBN'), ('in', 'IN'), ('a', 'DT'), ('manner', 'NN'), ('that', 'WDT'), ('will', 'MD'), ('eliminate', 'VB'), ('political', 'JJ'), ('influences', 'NNS'), (\"''\", \"''\"), ('.', '.')]\n",
      "[('The', 'DT'), ('jury', 'NN'), ('did', 'VBD'), ('not', 'RB'), ('elaborate', 'JJ'), (',', ','), ('but', 'CC'), ('it', 'PRP'), ('added', 'VBD'), ('that', 'IN'), ('``', '``'), ('there', 'EX'), ('should', 'MD'), ('be', 'VB'), ('periodic', 'JJ'), ('surveillance', 'NN'), ('of', 'IN'), ('the', 'DT'), ('pricing', 'NN'), ('practices', 'NNS'), ('of', 'IN'), ('the', 'DT'), ('concessionaires', 'NNS'), ('for', 'IN'), ('the', 'DT'), ('purpose', 'NN'), ('of', 'IN'), ('keeping', 'VBG'), ('the', 'DT'), ('prices', 'NNS'), ('reasonable', 'JJ'), (\"''\", \"''\"), ('.', '.')]\n",
      "[('Ask', 'NNP'), ('jail', 'NN'), ('deputies', 'NNS')]\n",
      "[('On', 'IN'), ('other', 'JJ'), ('matters', 'NNS'), (',', ','), ('the', 'DT'), ('jury', 'NN'), ('recommended', 'VBD'), ('that', 'IN'), (':', ':'), ('(', '('), ('1', 'CD'), (')', ')')]\n",
      "[('Four', 'CD'), ('additional', 'JJ'), ('deputies', 'NNS'), ('be', 'VB'), ('employed', 'VBN'), ('at', 'IN'), ('the', 'DT'), ('Fulton', 'NNP'), ('County', 'NNP'), ('Jail', 'NNP'), ('and', 'CC'), ('``', '``'), ('a', 'DT'), ('doctor', 'NN'), (',', ','), ('medical', 'JJ'), ('intern', 'NN'), ('or', 'CC'), ('extern', 'JJ'), ('be', 'VB'), ('employed', 'VBN'), ('for', 'IN'), ('night', 'NN'), ('and', 'CC'), ('weekend', 'NN'), ('duty', 'NN'), ('at', 'IN'), ('the', 'DT'), ('jail', 'NN'), (\"''\", \"''\"), ('.', '.')]\n",
      "[('(', '('), ('2', 'CD'), (')', ')')]\n",
      "[('Fulton', 'NNP'), ('legislators', 'NNS'), ('``', '``'), ('work', 'NN'), ('with', 'IN'), ('city', 'NN'), ('officials', 'NNS'), ('to', 'TO'), ('pass', 'VB'), ('enabling', 'VBG'), ('legislation', 'NN'), ('that', 'WDT'), ('will', 'MD'), ('permit', 'VB'), ('the', 'DT'), ('establishment', 'NN'), ('of', 'IN'), ('a', 'DT'), ('fair', 'JJ'), ('and', 'CC'), ('equitable', 'JJ'), (\"''\", \"''\"), ('pension', 'NN'), ('plan', 'NN'), ('for', 'IN'), ('city', 'NN'), ('employes', 'NNS'), ('.', '.')]\n",
      "[('The', 'DT'), ('jury', 'NN'), ('praised', 'VBD'), ('the', 'DT'), ('administration', 'NN'), ('and', 'CC'), ('operation', 'NN'), ('of', 'IN'), ('the', 'DT'), ('Atlanta', 'NNP'), ('Police', 'NNP'), ('Department', 'NNP'), (',', ','), ('the', 'DT'), ('Fulton', 'NNP'), ('Tax', 'NNP'), (\"Commissioner's\", 'NNP'), ('Office', 'NNP'), (',', ','), ('the', 'DT'), ('Bellwood', 'NNP'), ('and', 'CC'), ('Alpharetta', 'NNP'), ('prison', 'NN'), ('farms', 'NNS'), (',', ','), ('Grady', 'NNP'), ('Hospital', 'NNP'), ('and', 'CC'), ('the', 'DT'), ('Fulton', 'NNP'), ('Health', 'NNP'), ('Department', 'NNP'), ('.', '.')]\n",
      "[('Mayor', 'NNP'), ('William', 'NNP'), ('B.', 'NNP'), ('Hartsfield', 'NNP'), ('filed', 'VBD'), ('suit', 'NN'), ('for', 'IN'), ('divorce', 'NN'), ('from', 'IN'), ('his', 'PRP$'), ('wife', 'NN'), (',', ','), ('Pearl', 'NNP'), ('Williams', 'NNP'), ('Hartsfield', 'NNP'), (',', ','), ('in', 'IN'), ('Fulton', 'NNP'), ('Superior', 'NNP'), ('Court', 'NNP'), ('Friday', 'NNP'), ('.', '.')]\n",
      "[('His', 'PRP$'), ('petition', 'NN'), ('charged', 'VBN'), ('mental', 'JJ'), ('cruelty', 'NN'), ('.', '.')]\n",
      "[('The', 'DT'), ('couple', 'NN'), ('was', 'VBD'), ('married', 'VBN'), ('Aug.', 'NNP'), ('2', 'CD'), (',', ','), ('1913', 'CD'), ('.', '.')]\n",
      "[('They', 'PRP'), ('have', 'VBP'), ('a', 'DT'), ('son', 'NN'), (',', ','), ('William', 'NNP'), ('Berry', 'NNP'), ('Jr.', 'NNP'), (',', ','), ('and', 'CC'), ('a', 'DT'), ('daughter', 'NN'), (',', ','), ('Mrs.', 'NNP'), ('J.', 'NNP'), ('M.', 'NNP'), ('Cheshire', 'NNP'), ('of', 'IN'), ('Griffin', 'NNP'), ('.', '.')]\n",
      "[('Attorneys', 'NNS'), ('for', 'IN'), ('the', 'DT'), ('mayor', 'NN'), ('said', 'VBD'), ('that', 'IN'), ('an', 'DT'), ('amicable', 'JJ'), ('property', 'NN'), ('settlement', 'NN'), ('has', 'VBZ'), ('been', 'VBN'), ('agreed', 'VBN'), ('upon', 'IN'), ('.', '.')]\n",
      "[('The', 'DT'), ('petition', 'NN'), ('listed', 'VBD'), ('the', 'DT'), (\"mayor's\", 'JJ'), ('occupation', 'NN'), ('as', 'IN'), ('``', '``'), ('attorney', 'NN'), (\"''\", \"''\"), ('and', 'CC'), ('his', 'PRP$'), ('age', 'NN'), ('as', 'IN'), ('71', 'CD'), ('.', '.')]\n",
      "[('It', 'PRP'), ('listed', 'VBD'), ('his', 'PRP$'), (\"wife's\", 'JJ'), ('age', 'NN'), ('as', 'IN'), ('74', 'CD'), ('and', 'CC'), ('place', 'NN'), ('of', 'IN'), ('birth', 'NN'), ('as', 'IN'), ('Opelika', 'NNP'), (',', ','), ('Ala.', 'NNP'), ('.', '.')]\n",
      "[('The', 'DT'), ('petition', 'NN'), ('said', 'VBD'), ('that', 'IN'), ('the', 'DT'), ('couple', 'NN'), ('has', 'VBZ'), ('not', 'RB'), ('lived', 'VBN'), ('together', 'RB'), ('as', 'IN'), ('man', 'NN'), ('and', 'CC'), ('wife', 'NN'), ('for', 'IN'), ('more', 'JJR'), ('than', 'IN'), ('a', 'DT'), ('year', 'NN'), ('.', '.')]\n",
      "[('The', 'DT'), ('Hartsfield', 'NNP'), ('home', 'NN'), ('is', 'VBZ'), ('at', 'IN'), ('637', 'CD'), ('E.', 'NNP'), ('Pelham', 'NNP'), ('Rd.', 'NNP'), ('Aj', 'NNP'), ('.', '.')]\n",
      "[('Henry', 'NNP'), ('L.', 'NNP'), ('Bowden', 'NNP'), ('was', 'VBD'), ('listed', 'VBN'), ('on', 'IN'), ('the', 'DT'), ('petition', 'NN'), ('as', 'IN'), ('the', 'DT'), (\"mayor's\", 'NN'), ('attorney', 'NN'), ('.', '.')]\n",
      "[('Hartsfield', 'NNP'), ('has', 'VBZ'), ('been', 'VBN'), ('mayor', 'NN'), ('of', 'IN'), ('Atlanta', 'NNP'), (',', ','), ('with', 'IN'), ('exception', 'NN'), ('of', 'IN'), ('one', 'CD'), ('brief', 'NN'), ('interlude', 'NN'), (',', ','), ('since', 'IN'), ('1937', 'CD'), ('.', '.')]\n",
      "[('His', 'PRP$'), ('political', 'JJ'), ('career', 'NN'), ('goes', 'VBZ'), ('back', 'RB'), ('to', 'TO'), ('his', 'PRP$'), ('election', 'NN'), ('to', 'TO'), ('city', 'NN'), ('council', 'NN'), ('in', 'IN'), ('1923', 'CD'), ('.', '.')]\n",
      "[('The', 'DT'), (\"mayor's\", 'JJ'), ('present', 'JJ'), ('term', 'NN'), ('of', 'IN'), ('office', 'NN'), ('expires', 'VBZ'), ('Jan.', 'NNP'), ('1', 'CD'), ('.', '.')]\n",
      "[('He', 'PRP'), ('will', 'MD'), ('be', 'VB'), ('succeeded', 'VBN'), ('by', 'IN'), ('Ivan', 'NNP'), ('Allen', 'NNP'), ('Jr.', 'NNP'), (',', ','), ('who', 'WP'), ('became', 'VBD'), ('a', 'DT'), ('candidate', 'NN'), ('in', 'IN'), ('the', 'DT'), ('Sept.', 'NNP'), ('13', 'CD'), ('primary', 'NN'), ('after', 'IN'), ('Mayor', 'NNP'), ('Hartsfield', 'NNP'), ('announced', 'VBD'), ('that', 'IN'), ('he', 'PRP'), ('would', 'MD'), ('not', 'RB'), ('run', 'VB'), ('for', 'IN'), ('reelection', 'NN'), ('.', '.')]\n",
      "[('Georgia', 'NNP'), ('Republicans', 'NNPS'), ('are', 'VBP'), ('getting', 'VBG'), ('strong', 'JJ'), ('encouragement', 'NN'), ('to', 'TO'), ('enter', 'VB'), ('a', 'DT'), ('candidate', 'NN'), ('in', 'IN'), ('the', 'DT'), ('1962', 'CD'), (\"governor's\", 'NN'), ('race', 'NN'), (',', ','), ('a', 'DT'), ('top', 'JJ'), ('official', 'NN'), ('said', 'VBD'), ('Wednesday', 'NNP'), ('.', '.')]\n",
      "[('Robert', 'NNP'), ('Snodgrass', 'NNP'), (',', ','), ('state', 'NN'), ('GOP', 'NNP'), ('chairman', 'NN'), (',', ','), ('said', 'VBD'), ('a', 'DT'), ('meeting', 'NN'), ('held', 'VBD'), ('Tuesday', 'NNP'), ('night', 'NN'), ('in', 'IN'), ('Blue', 'NNP'), ('Ridge', 'NNP'), ('brought', 'VBD'), ('enthusiastic', 'JJ'), ('responses', 'NNS'), ('from', 'IN'), ('the', 'DT'), ('audience', 'NN'), ('.', '.')]\n",
      "[('State', 'NNP'), ('Party', 'NNP'), ('Chairman', 'NNP'), ('James', 'NNP'), ('W.', 'NNP'), ('Dorsey', 'NNP'), ('added', 'VBD'), ('that', 'IN'), ('enthusiasm', 'NN'), ('was', 'VBD'), ('picking', 'VBG'), ('up', 'RP'), ('for', 'IN'), ('a', 'DT'), ('state', 'NN'), ('rally', 'NN'), ('to', 'TO'), ('be', 'VB'), ('held', 'VBN'), ('Sept.', 'NNP'), ('8', 'CD'), ('in', 'IN'), ('Savannah', 'NNP'), ('at', 'IN'), ('which', 'WDT'), ('newly', 'RB'), ('elected', 'VBN'), ('Texas', 'NNP'), ('Sen.', 'NNP'), ('John', 'NNP'), ('Tower', 'NNP'), ('will', 'MD'), ('be', 'VB'), ('the', 'DT'), ('featured', 'JJ'), ('speaker', 'NN'), ('.', '.')]\n",
      "[('In', 'IN'), ('the', 'DT'), ('Blue', 'NNP'), ('Ridge', 'NNP'), ('meeting', 'NN'), (',', ','), ('the', 'DT'), ('audience', 'NN'), ('was', 'VBD'), ('warned', 'VBN'), ('that', 'IN'), ('entering', 'VBG'), ('a', 'DT'), ('candidate', 'NN'), ('for', 'IN'), ('governor', 'NN'), ('would', 'MD'), ('force', 'VB'), ('it', 'PRP'), ('to', 'TO'), ('take', 'VB'), ('petitions', 'NNS'), ('out', 'RP'), ('into', 'IN'), ('voting', 'VBG'), ('precincts', 'NNS'), ('to', 'TO'), ('obtain', 'VB'), ('the', 'DT'), ('signatures', 'NNS'), ('of', 'IN'), ('registered', 'JJ'), ('voters', 'NNS'), ('.', '.')]\n",
      "[('Despite', 'IN'), ('the', 'DT'), ('warning', 'NN'), (',', ','), ('there', 'EX'), ('was', 'VBD'), ('a', 'DT'), ('unanimous', 'JJ'), ('vote', 'NN'), ('to', 'TO'), ('enter', 'VB'), ('a', 'DT'), ('candidate', 'NN'), (',', ','), ('according', 'VBG'), ('to', 'TO'), ('Republicans', 'NNPS'), ('who', 'WP'), ('attended', 'VBD'), ('.', '.')]\n",
      "[('When', 'WRB'), ('the', 'DT'), ('crowd', 'NN'), ('was', 'VBD'), ('asked', 'VBN'), ('whether', 'IN'), ('it', 'PRP'), ('wanted', 'VBD'), ('to', 'TO'), ('wait', 'VB'), ('one', 'CD'), ('more', 'JJR'), ('term', 'NN'), ('to', 'TO'), ('make', 'VB'), ('the', 'DT'), ('race', 'NN'), (',', ','), ('it', 'PRP'), ('voted', 'VBD'), ('no', 'DT'), ('--', ':'), ('and', 'CC'), ('there', 'EX'), ('were', 'VBD'), ('no', 'DT'), ('dissents', 'NNS'), ('.', '.')]\n",
      "[('The', 'DT'), ('largest', 'JJS'), ('hurdle', 'NN'), ('the', 'DT'), ('Republicans', 'NNPS'), ('would', 'MD'), ('have', 'VB'), ('to', 'TO'), ('face', 'NN'), ('is', 'VBZ'), ('a', 'DT'), ('state', 'NN'), ('law', 'NN'), ('which', 'WDT'), ('says', 'VBZ'), ('that', 'IN'), ('before', 'IN'), ('making', 'VBG'), ('a', 'DT'), ('first', 'JJ'), ('race', 'NN'), (',', ','), ('one', 'CD'), ('of', 'IN'), ('two', 'CD'), ('alternative', 'JJ'), ('courses', 'NNS'), ('must', 'MD'), ('be', 'VB'), ('taken', 'VBN'), (':', ':'), ('1', 'CD')]\n",
      "[('Five', 'CD'), ('per', 'IN'), ('cent', 'NN'), ('of', 'IN'), ('the', 'DT'), ('voters', 'NNS'), ('in', 'IN'), ('each', 'DT'), ('county', 'NN'), ('must', 'MD'), ('sign', 'VB'), ('petitions', 'NNS'), ('requesting', 'VBG'), ('that', 'IN'), ('the', 'DT'), ('Republicans', 'NNPS'), ('be', 'VB'), ('allowed', 'VBN'), ('to', 'TO'), ('place', 'VB'), ('names', 'NNS'), ('of', 'IN'), ('candidates', 'NNS'), ('on', 'IN'), ('the', 'DT'), ('general', 'JJ'), ('election', 'NN'), ('ballot', 'NN'), (',', ','), ('or', 'CC'), ('2', 'CD')]\n",
      "[('The', 'DT'), ('Republicans', 'NNPS'), ('must', 'MD'), ('hold', 'VB'), ('a', 'DT'), ('primary', 'JJ'), ('under', 'IN'), ('the', 'DT'), ('county', 'NN'), ('unit', 'NN'), ('system', 'NN'), ('--', ':'), ('a', 'DT'), ('system', 'NN'), ('which', 'WDT'), ('the', 'DT'), ('party', 'NN'), ('opposes', 'VBZ'), ('in', 'IN'), ('its', 'PRP$'), ('platform', 'NN'), ('.', '.')]\n",
      "[('Sam', 'NNP'), ('Caldwell', 'NNP'), (',', ','), ('State', 'NNP'), ('Highway', 'NNP'), ('Department', 'NNP'), ('public', 'JJ'), ('relations', 'NNS'), ('director', 'NN'), (',', ','), ('resigned', 'VBD'), ('Tuesday', 'NNP'), ('to', 'TO'), ('work', 'VB'), ('for', 'IN'), ('Lt.', 'NNP'), ('Gov.', 'NNP'), ('Garland', 'NNP'), (\"Byrd's\", 'NNP'), ('campaign', 'NN'), ('.', '.')]\n",
      "[(\"Caldwell's\", 'NNP'), ('resignation', 'NN'), ('had', 'VBD'), ('been', 'VBN'), ('expected', 'VBN'), ('for', 'IN'), ('some', 'DT'), ('time', 'NN'), ('.', '.')]\n",
      "[('He', 'PRP'), ('will', 'MD'), ('be', 'VB'), ('succeeded', 'VBN'), ('by', 'IN'), ('Rob', 'NNP'), ('Ledford', 'NNP'), ('of', 'IN'), ('Gainesville', 'NNP'), (',', ','), ('who', 'WP'), ('has', 'VBZ'), ('been', 'VBN'), ('an', 'DT'), ('assistant', 'NN'), ('more', 'JJR'), ('than', 'IN'), ('three', 'CD'), ('years', 'NNS'), ('.', '.')]\n",
      "[('When', 'WRB'), ('the', 'DT'), ('gubernatorial', 'JJ'), ('campaign', 'NN'), ('starts', 'VBZ'), (',', ','), ('Caldwell', 'NNP'), ('is', 'VBZ'), ('expected', 'VBN'), ('to', 'TO'), ('become', 'VB'), ('a', 'DT'), ('campaign', 'NN'), ('coordinator', 'NN'), ('for', 'IN'), ('Byrd', 'NNP'), ('.', '.')]\n",
      "[('The', 'DT'), ('Georgia', 'NNP'), ('Legislature', 'NNP'), ('will', 'MD'), ('wind', 'VB'), ('up', 'RP'), ('its', 'PRP$'), ('1961', 'CD'), ('session', 'NN'), ('Monday', 'NNP'), ('and', 'CC'), ('head', 'NN'), ('for', 'IN'), ('home', 'NN'), ('--', ':'), ('where', 'WRB'), ('some', 'DT'), ('of', 'IN'), ('the', 'DT'), ('highway', 'NN'), ('bond', 'NN'), ('money', 'NN'), ('it', 'PRP'), ('approved', 'VBD'), ('will', 'MD'), ('follow', 'VB'), ('shortly', 'RB'), ('.', '.')]\n",
      "[('Before', 'IN'), ('adjournment', 'JJ'), ('Monday', 'NNP'), ('afternoon', 'NN'), (',', ','), ('the', 'DT'), ('Senate', 'NNP'), ('is', 'VBZ'), ('expected', 'VBN'), ('to', 'TO'), ('approve', 'VB'), ('a', 'DT'), ('study', 'NN'), ('of', 'IN'), ('the', 'DT'), ('number', 'NN'), ('of', 'IN'), ('legislators', 'NNS'), ('allotted', 'VBN'), ('to', 'TO'), ('rural', 'JJ'), ('and', 'CC'), ('urban', 'JJ'), ('areas', 'NNS'), ('to', 'TO'), ('determine', 'VB'), ('what', 'WP'), ('adjustments', 'NNS'), ('should', 'MD'), ('be', 'VB'), ('made', 'VBN'), ('.', '.')]\n",
      "[('Gov.', 'NNP'), ('Vandiver', 'NNP'), ('is', 'VBZ'), ('expected', 'VBN'), ('to', 'TO'), ('make', 'VB'), ('the', 'DT'), ('traditional', 'JJ'), ('visit', 'NN'), ('to', 'TO'), ('both', 'DT'), ('chambers', 'NNS'), ('as', 'IN'), ('they', 'PRP'), ('work', 'VBP'), ('toward', 'IN'), ('adjournment', 'NN'), ('.', '.')]\n",
      "[('Vandiver', 'NNP'), ('likely', 'RB'), ('will', 'MD'), ('mention', 'VB'), ('the', 'DT'), ('$100', 'NNP'), ('million', 'CD'), ('highway', 'NN'), ('bond', 'NN'), ('issue', 'NN'), ('approved', 'VBD'), ('earlier', 'RBR'), ('in', 'IN'), ('the', 'DT'), ('session', 'NN'), ('as', 'IN'), ('his', 'PRP$'), ('first', 'JJ'), ('priority', 'NN'), ('item', 'NN'), ('.', '.')]\n",
      "[('Construction', 'NN'), ('bonds', 'NNS')]\n",
      "[('Meanwhile', 'RB'), (',', ','), ('it', 'PRP'), ('was', 'VBD'), ('learned', 'VBN'), ('the', 'DT'), ('State', 'NNP'), ('Highway', 'NNP'), ('Department', 'NNP'), ('is', 'VBZ'), ('very', 'RB'), ('near', 'IN'), ('being', 'VBG'), ('ready', 'JJ'), ('to', 'TO'), ('issue', 'VB'), ('the', 'DT'), ('first', 'JJ'), ('$30', 'NN'), ('million', 'CD'), ('worth', 'NN'), ('of', 'IN'), ('highway', 'NN'), ('reconstruction', 'NN'), ('bonds', 'NNS'), ('.', '.')]\n",
      "[('The', 'DT'), ('bond', 'NN'), ('issue', 'NN'), ('will', 'MD'), ('go', 'VB'), ('to', 'TO'), ('the', 'DT'), ('state', 'NN'), ('courts', 'NNS'), ('for', 'IN'), ('a', 'DT'), ('friendly', 'JJ'), ('test', 'NN'), ('suit', 'NN'), ('to', 'TO'), ('test', 'VB'), ('the', 'DT'), ('validity', 'NN'), ('of', 'IN'), ('the', 'DT'), ('act', 'NN'), (',', ','), ('and', 'CC'), ('then', 'RB'), ('the', 'DT'), ('sales', 'NNS'), ('will', 'MD'), ('begin', 'VB'), ('and', 'CC'), ('contracts', 'NNS'), ('let', 'VBP'), ('for', 'IN'), ('repair', 'NN'), ('work', 'NN'), ('on', 'IN'), ('some', 'DT'), ('of', 'IN'), (\"Georgia's\", 'NNP'), ('most', 'JJS'), ('heavily', 'RB'), ('traveled', 'VBN'), ('highways', 'NNS'), ('.', '.')]\n",
      "[('A', 'DT'), ('Highway', 'NNP'), ('Department', 'NNP'), ('source', 'NN'), ('said', 'VBD'), ('there', 'EX'), ('also', 'RB'), ('is', 'VBZ'), ('a', 'DT'), ('plan', 'NN'), ('there', 'RB'), ('to', 'TO'), ('issue', 'VB'), ('some', 'DT'), ('$3', 'CD'), ('million', 'CD'), ('to', 'TO'), ('$4', 'VB'), ('million', 'CD'), ('worth', 'NN'), ('of', 'IN'), ('Rural', 'NNP'), ('Roads', 'NNP'), ('Authority', 'NNP'), ('bonds', 'NNS'), ('for', 'IN'), ('rural', 'JJ'), ('road', 'NN'), ('construction', 'NN'), ('work', 'NN'), ('.', '.')]\n",
      "[('A', 'DT'), ('revolving', 'NN'), ('fund', 'NN')]\n",
      "[('The', 'DT'), ('department', 'NN'), ('apparently', 'RB'), ('intends', 'VBZ'), ('to', 'TO'), ('make', 'VB'), ('the', 'DT'), ('Rural', 'NNP'), ('Roads', 'NNP'), ('Authority', 'NNP'), ('a', 'DT'), ('revolving', 'VBG'), ('fund', 'NN'), ('under', 'IN'), ('which', 'WDT'), ('new', 'JJ'), ('bonds', 'NNS'), ('would', 'MD'), ('be', 'VB'), ('issued', 'VBN'), ('every', 'DT'), ('time', 'NN'), ('a', 'DT'), ('portion', 'NN'), ('of', 'IN'), ('the', 'DT'), ('old', 'JJ'), ('ones', 'NNS'), ('are', 'VBP'), ('paid', 'VBN'), ('off', 'RP'), ('by', 'IN'), ('tax', 'NN'), ('authorities', 'NNS'), ('.', '.')]\n",
      "[('Vandiver', 'RB'), ('opened', 'VBD'), ('his', 'PRP$'), ('race', 'NN'), ('for', 'IN'), ('governor', 'NN'), ('in', 'IN'), ('1958', 'CD'), ('with', 'IN'), ('a', 'DT'), ('battle', 'NN'), ('in', 'IN'), ('the', 'DT'), ('Legislature', 'NNP'), ('against', 'IN'), ('the', 'DT'), ('issuance', 'NN'), ('of', 'IN'), ('$50', 'NNP'), ('million', 'CD'), ('worth', 'NN'), ('of', 'IN'), ('additional', 'JJ'), ('rural', 'JJ'), ('roads', 'NNS'), ('bonds', 'NNS'), ('proposed', 'VBN'), ('by', 'IN'), ('then', 'RB'), ('Gov.', 'NNP'), ('Marvin', 'NNP'), ('Griffin', 'NNP'), ('.', '.')]\n",
      "[('The', 'DT'), ('Highway', 'NNP'), ('Department', 'NNP'), ('source', 'NN'), ('told', 'VBD'), ('The', 'DT'), ('Constitution', 'NNP'), (',', ','), ('however', 'RB'), (',', ','), ('that', 'IN'), ('Vandiver', 'NNP'), ('has', 'VBZ'), ('not', 'RB'), ('been', 'VBN'), ('consulted', 'VBN'), ('yet', 'RB'), ('about', 'IN'), ('the', 'DT'), ('plans', 'NNS'), ('to', 'TO'), ('issue', 'VB'), ('the', 'DT'), ('new', 'JJ'), ('rural', 'JJ'), ('roads', 'NNS'), ('bonds', 'NNS'), ('.', '.')]\n",
      "[('Schley', 'NNP'), ('County', 'NNP'), ('Rep.', 'NNP'), ('B.', 'NNP'), ('D.', 'NNP'), ('Pelham', 'NNP'), ('will', 'MD'), ('offer', 'VB'), ('a', 'DT'), ('resolution', 'NN'), ('Monday', 'NNP'), ('in', 'IN'), ('the', 'DT'), ('House', 'NNP'), ('to', 'TO'), ('rescind', 'VB'), ('the', 'DT'), (\"body's\", 'JJ'), ('action', 'NN'), ('of', 'IN'), ('Friday', 'NNP'), ('in', 'IN'), ('voting', 'VBG'), ('itself', 'PRP'), ('a', 'DT'), ('$10', 'JJ'), ('per', 'IN'), ('day', 'NN'), ('increase', 'NN'), ('in', 'IN'), ('expense', 'JJ'), ('allowances', 'NNS'), ('.', '.')]\n",
      "[('Pelham', 'NNP'), ('said', 'VBD'), ('Sunday', 'NNP'), ('night', 'NN'), ('there', 'RB'), ('was', 'VBD'), ('research', 'NN'), ('being', 'VBG'), ('done', 'VBN'), ('on', 'IN'), ('whether', 'IN'), ('the', 'DT'), ('``', '``'), ('quickie', 'NN'), (\"''\", \"''\"), ('vote', 'NN'), ('on', 'IN'), ('the', 'DT'), ('increase', 'NN'), ('can', 'MD'), ('be', 'VB'), ('repealed', 'VBN'), ('outright', 'RB'), ('or', 'CC'), ('whether', 'IN'), ('notice', 'NN'), ('would', 'MD'), ('have', 'VB'), ('to', 'TO'), ('first', 'JJ'), ('be', 'VB'), ('given', 'VBN'), ('that', 'DT'), ('reconsideration', 'NN'), ('of', 'IN'), ('the', 'DT'), ('action', 'NN'), ('would', 'MD'), ('be', 'VB'), ('sought', 'VBN'), ('.', '.')]\n",
      "[('While', 'IN'), ('emphasizing', 'VBG'), ('that', 'DT'), ('technical', 'JJ'), ('details', 'NNS'), ('were', 'VBD'), ('not', 'RB'), ('fully', 'RB'), ('worked', 'VBN'), ('out', 'RP'), (',', ','), ('Pelham', 'NNP'), ('said', 'VBD'), ('his', 'PRP$'), ('resolution', 'NN'), ('would', 'MD'), ('seek', 'VB'), ('to', 'TO'), ('set', 'VB'), ('aside', 'RP'), ('the', 'DT'), ('privilege', 'NN'), ('resolution', 'NN'), ('which', 'WDT'), ('the', 'DT'), ('House', 'NNP'), ('voted', 'VBD'), ('through', 'IN'), ('87-31', 'JJ'), ('.', '.')]\n",
      "[('A', 'DT'), ('similar', 'JJ'), ('resolution', 'NN'), ('passed', 'VBD'), ('in', 'IN'), ('the', 'DT'), ('Senate', 'NNP'), ('by', 'IN'), ('a', 'DT'), ('vote', 'NN'), ('of', 'IN'), ('29-5', 'JJ'), ('.', '.')]\n",
      "[('As', 'IN'), ('of', 'IN'), ('Sunday', 'NNP'), ('night', 'NN'), (',', ','), ('there', 'EX'), ('was', 'VBD'), ('no', 'DT'), ('word', 'NN'), ('of', 'IN'), ('a', 'DT'), ('resolution', 'NN'), ('being', 'VBG'), ('offered', 'VBN'), ('there', 'RB'), ('to', 'TO'), ('rescind', 'VB'), ('the', 'DT'), ('action', 'NN'), ('.', '.')]\n",
      "[('Pelham', 'NNP'), ('pointed', 'VBD'), ('out', 'RP'), ('that', 'IN'), ('Georgia', 'NNP'), ('voters', 'NNS'), ('last', 'JJ'), ('November', 'NNP'), ('rejected', 'VBD'), ('a', 'DT'), ('constitutional', 'JJ'), ('amendment', 'NN'), ('to', 'TO'), ('allow', 'VB'), ('legislators', 'NNS'), ('to', 'TO'), ('vote', 'VB'), ('on', 'IN'), ('pay', 'NN'), ('raises', 'NNS'), ('for', 'IN'), ('future', 'JJ'), ('Legislature', 'NNP'), ('sessions', 'NNS'), ('.', '.')]\n",
      "[('A', 'DT'), ('veteran', 'JJ'), ('Jackson', 'NNP'), ('County', 'NNP'), ('legislator', 'NN'), ('will', 'MD'), ('ask', 'VB'), ('the', 'DT'), ('Georgia', 'NNP'), ('House', 'NNP'), ('Monday', 'NNP'), ('to', 'TO'), ('back', 'VB'), ('federal', 'JJ'), ('aid', 'NN'), ('to', 'TO'), ('education', 'NN'), (',', ','), ('something', 'NN'), ('it', 'PRP'), ('has', 'VBZ'), ('consistently', 'RB'), ('opposed', 'VBN'), ('in', 'IN'), ('the', 'DT'), ('past', 'NN'), ('.', '.')]\n",
      "[('Rep.', 'NNP'), ('Mac', 'NNP'), ('Barber', 'NNP'), ('of', 'IN'), ('Commerce', 'NNP'), ('is', 'VBZ'), ('asking', 'VBG'), ('the', 'DT'), ('House', 'NNP'), ('in', 'IN'), ('a', 'DT'), ('privilege', 'NN'), ('resolution', 'NN'), ('to', 'TO'), ('``', '``'), ('endorse', 'VB'), ('increased', 'JJ'), ('federal', 'JJ'), ('support', 'NN'), ('for', 'IN'), ('public', 'JJ'), ('education', 'NN'), (',', ','), ('provided', 'VBD'), ('that', 'IN'), ('such', 'JJ'), ('funds', 'NNS'), ('be', 'VB'), ('received', 'VBN'), ('and', 'CC'), ('expended', 'VBN'), (\"''\", \"''\"), ('as', 'IN'), ('state', 'NN'), ('funds', 'NNS'), ('.', '.')]\n",
      "[('Barber', 'NNP'), (',', ','), ('who', 'WP'), ('is', 'VBZ'), ('in', 'IN'), ('his', 'PRP$'), ('13th', 'CD'), ('year', 'NN'), ('as', 'IN'), ('a', 'DT'), ('legislator', 'NN'), (',', ','), ('said', 'VBD'), ('there', 'EX'), ('``', '``'), ('are', 'VBP'), ('some', 'DT'), ('members', 'NNS'), ('of', 'IN'), ('our', 'PRP$'), ('congressional', 'JJ'), ('delegation', 'NN'), ('in', 'IN'), ('Washington', 'NNP'), ('who', 'WP'), ('would', 'MD'), ('like', 'VB'), ('to', 'TO'), ('see', 'VB'), ('it', 'PRP'), ('(', '('), ('the', 'DT'), ('resolution', 'NN'), (')', ')'), ('passed', 'VBD'), (\"''\", \"''\"), ('.', '.')]\n",
      "[('But', 'CC'), ('he', 'PRP'), ('added', 'VBD'), ('that', 'IN'), ('none', 'NN'), ('of', 'IN'), (\"Georgia's\", 'NNP'), ('congressmen', 'NNS'), ('specifically', 'RB'), ('asked', 'VBD'), ('him', 'PRP'), ('to', 'TO'), ('offer', 'VB'), ('the', 'DT'), ('resolution', 'NN'), ('.', '.')]\n",
      "[('The', 'DT'), ('resolution', 'NN'), (',', ','), ('which', 'WDT'), ('Barber', 'NNP'), ('tossed', 'VBD'), ('into', 'IN'), ('the', 'DT'), ('House', 'NNP'), ('hopper', 'NN'), ('Friday', 'NNP'), (',', ','), ('will', 'MD'), ('be', 'VB'), ('formally', 'RB'), ('read', 'JJ'), ('Monday', 'NNP'), ('.', '.')]\n",
      "[('It', 'PRP'), ('says', 'VBZ'), ('that', 'IN'), ('``', '``'), ('in', 'IN'), ('the', 'DT'), ('event', 'NN'), ('Congress', 'NNP'), ('does', 'VBZ'), ('provide', 'VB'), ('this', 'DT'), ('increase', 'NN'), ('in', 'IN'), ('federal', 'JJ'), ('funds', 'NNS'), (\"''\", \"''\"), (',', ','), ('the', 'DT'), ('State', 'NNP'), ('Board', 'NNP'), ('of', 'IN'), ('Education', 'NNP'), ('should', 'MD'), ('be', 'VB'), ('directed', 'VBN'), ('to', 'TO'), ('``', '``'), ('give', 'VB'), ('priority', 'NN'), (\"''\", \"''\"), ('to', 'TO'), ('teacher', 'VB'), ('pay', 'NN'), ('raises', 'NNS'), ('.', '.')]\n",
      "[('Colquitt', 'NN')]\n",
      "[('--', ':'), ('After', 'IN'), ('a', 'DT'), ('long', 'JJ'), (',', ','), ('hot', 'JJ'), ('controversy', 'NN'), (',', ','), ('Miller', 'NNP'), ('County', 'NNP'), ('has', 'VBZ'), ('a', 'DT'), ('new', 'JJ'), ('school', 'NN'), ('superintendent', 'NN'), (',', ','), ('elected', 'VBN'), (',', ','), ('as', 'IN'), ('a', 'DT'), ('policeman', 'NN'), ('put', 'VBD'), ('it', 'PRP'), (',', ','), ('in', 'IN'), ('the', 'DT'), ('``', '``'), ('coolest', 'JJS'), ('election', 'NN'), ('I', 'PRP'), ('ever', 'RB'), ('saw', 'VBD'), ('in', 'IN'), ('this', 'DT'), ('county', 'NN'), (\"''\", \"''\"), ('.', '.')]\n",
      "[('The', 'DT'), ('new', 'JJ'), ('school', 'NN'), ('superintendent', 'NN'), ('is', 'VBZ'), ('Harry', 'NNP'), ('Davis', 'NNP'), (',', ','), ('a', 'DT'), ('veteran', 'JJ'), ('agriculture', 'NN'), ('teacher', 'NN'), (',', ','), ('who', 'WP'), ('defeated', 'VBD'), ('Felix', 'NNP'), ('Bush', 'NNP'), (',', ','), ('a', 'DT'), ('school', 'NN'), ('principal', 'NN'), ('and', 'CC'), ('chairman', 'NN'), ('of', 'IN'), ('the', 'DT'), ('Miller', 'NNP'), ('County', 'NNP'), ('Democratic', 'NNP'), ('Executive', 'NNP'), ('Committee', 'NNP'), ('.', '.')]\n",
      "[('Davis', 'NNP'), ('received', 'VBD'), ('1,119', 'CD'), ('votes', 'NNS'), ('in', 'IN'), (\"Saturday's\", 'NNP'), ('election', 'NN'), (',', ','), ('and', 'CC'), ('Bush', 'NNP'), ('got', 'VBD'), ('402', 'CD'), ('.', '.')]\n",
      "[('Ordinary', 'JJ'), ('Carey', 'NNP'), ('Williams', 'NNP'), (',', ','), ('armed', 'VBD'), ('with', 'IN'), ('a', 'DT'), ('pistol', 'NN'), (',', ','), ('stood', 'VBN'), ('by', 'IN'), ('at', 'IN'), ('the', 'DT'), ('polls', 'NNS'), ('to', 'TO'), ('insure', 'VB'), ('order', 'NN'), ('.', '.')]\n",
      "[('``', '``'), ('This', 'DT'), ('was', 'VBD'), ('the', 'DT'), ('coolest', 'JJS'), (',', ','), ('calmest', 'JJS'), ('election', 'NN'), ('I', 'PRP'), ('ever', 'RB'), ('saw', 'VBD'), (\"''\", \"''\"), (',', ','), ('Colquitt', 'NNP'), ('Policeman', 'NNP'), ('Tom', 'NNP'), ('Williams', 'NNP'), ('said', 'VBD'), ('.', '.')]\n",
      "[('``', '``'), ('Being', 'NN'), ('at', 'IN'), ('the', 'DT'), ('polls', 'NNS'), ('was', 'VBD'), ('just', 'RB'), ('like', 'IN'), ('being', 'VBG'), ('at', 'IN'), ('church', 'NN'), ('.', '.')]\n",
      "[('I', 'PRP'), (\"didn't\", 'VBP'), ('smell', 'VB'), ('a', 'DT'), ('drop', 'NN'), ('of', 'IN'), ('liquor', 'NN'), (',', ','), ('and', 'CC'), ('we', 'PRP'), (\"didn't\", 'VBP'), ('have', 'VB'), ('a', 'DT'), ('bit', 'NN'), ('of', 'IN'), ('trouble', 'NN'), (\"''\", \"''\"), ('.', '.')]\n",
      "[('The', 'DT'), ('campaign', 'NN'), ('leading', 'VBG'), ('to', 'TO'), ('the', 'DT'), ('election', 'NN'), ('was', 'VBD'), ('not', 'RB'), ('so', 'RB'), ('quiet', 'JJ'), (',', ','), ('however', 'RB'), ('.', '.')]\n",
      "[('It', 'PRP'), ('was', 'VBD'), ('marked', 'VBN'), ('by', 'IN'), ('controversy', 'NN'), (',', ','), ('anonymous', 'JJ'), ('midnight', 'NN'), ('phone', 'NN'), ('calls', 'NNS'), ('and', 'CC'), ('veiled', 'VBD'), ('threats', 'NNS'), ('of', 'IN'), ('violence', 'NN'), ('.', '.')]\n",
      "[('The', 'DT'), ('former', 'JJ'), ('county', 'NN'), ('school', 'NN'), ('superintendent', 'NN'), (',', ','), ('George', 'NNP'), ('P.', 'NNP'), ('Callan', 'NNP'), (',', ','), ('shot', 'VBD'), ('himself', 'PRP'), ('to', 'TO'), ('death', 'NN'), ('March', 'NNP'), ('18', 'CD'), (',', ','), ('four', 'CD'), ('days', 'NNS'), ('after', 'IN'), ('he', 'PRP'), ('resigned', 'VBD'), ('his', 'PRP$'), ('post', 'NN'), ('in', 'IN'), ('a', 'DT'), ('dispute', 'NN'), ('with', 'IN'), ('the', 'DT'), ('county', 'NN'), ('school', 'NN'), ('board', 'NN'), ('.', '.')]\n",
      "[('During', 'IN'), ('the', 'DT'), ('election', 'NN'), ('campaign', 'NN'), (',', ','), ('both', 'DT'), ('candidates', 'NNS'), (',', ','), ('Davis', 'NNP'), ('and', 'CC'), ('Bush', 'NNP'), (',', ','), ('reportedly', 'RB'), ('received', 'VBD'), ('anonymous', 'JJ'), ('telephone', 'NN'), ('calls', 'NNS'), ('.', '.')]\n",
      "[('Ordinary', 'JJ'), ('Williams', 'NNP'), ('said', 'VBD'), ('he', 'PRP'), (',', ','), ('too', 'RB'), (',', ','), ('was', 'VBD'), ('subjected', 'VBN'), ('to', 'TO'), ('anonymous', 'JJ'), ('calls', 'NNS'), ('soon', 'RB'), ('after', 'IN'), ('he', 'PRP'), ('scheduled', 'VBD'), ('the', 'DT'), ('election', 'NN'), ('.', '.')]\n",
      "[('Many', 'JJ'), ('local', 'JJ'), ('citizens', 'NNS'), ('feared', 'VBD'), ('that', 'IN'), ('there', 'EX'), ('would', 'MD'), ('be', 'VB'), ('irregularities', 'NNS'), ('at', 'IN'), ('the', 'DT'), ('polls', 'NNS'), (',', ','), ('and', 'CC'), ('Williams', 'NNP'), ('got', 'VBD'), ('himself', 'PRP'), ('a', 'DT'), ('permit', 'NN'), ('to', 'TO'), ('carry', 'VB'), ('a', 'DT'), ('gun', 'NN'), ('and', 'CC'), ('promised', 'VBD'), ('an', 'DT'), ('orderly', 'JJ'), ('election', 'NN'), ('.', '.')]\n",
      "[('Sheriff', 'NNP'), ('Felix', 'NNP'), ('Tabb', 'NNP'), ('said', 'VBD'), ('the', 'DT'), ('ordinary', 'JJ'), ('apparently', 'RB'), ('made', 'VBD'), ('good', 'JJ'), ('his', 'PRP$'), ('promise', 'NN'), ('.', '.')]\n",
      "[('``', '``'), ('Everything', 'NN'), ('went', 'VBD'), ('real', 'JJ'), ('smooth', 'NN'), (\"''\", \"''\"), (',', ','), ('the', 'DT'), ('sheriff', 'NN'), ('said', 'VBD'), ('.', '.')]\n",
      "[('``', '``'), ('There', 'EX'), (\"wasn't\", 'VBZ'), ('a', 'DT'), ('bit', 'NN'), ('of', 'IN'), ('trouble', 'NN'), (\"''\", \"''\"), ('.', '.')]\n"
     ]
    }
   ],
   "source": [
    "from nltk.corpus import brown\n",
    "for sent in brown.sents(brown.fileids()[0:1]):\n",
    "    pos_tags = nltk.pos_tag(sent)\n",
    "    print(pos_tags)"
   ]
  },
  {
   "cell_type": "code",
   "execution_count": 39,
   "metadata": {},
   "outputs": [
    {
     "name": "stderr",
     "output_type": "stream",
     "text": [
      "[nltk_data] Downloading package stopwords to /Users/kmw/nltk_data...\n",
      "[nltk_data]   Package stopwords is already up-to-date!\n"
     ]
    },
    {
     "name": "stdout",
     "output_type": "stream",
     "text": [
      "United States; New York; per cent; Los Angeles; last year; White\n",
      "House; years ago; San Francisco; United Nations; last night; World\n",
      "War; President Kennedy; last week; home runs; Mr. Kennedy; St. Louis;\n",
      "General Assembly; East Greenwich; Viet Nam; New Orleans\n",
      "None\n",
      "Displaying 30 of 108 matches:\n",
      " ADC program in Cook county by a New York City welfare consulting firm , liste\n",
      " of surplus funds of the Port of New York Authority , and making New Jersey at\n",
      "tions , published in yesterday's New York Times . The Mayor said : `` It didn'\n",
      " of the American League champion New York Yankees , who come in here tomorrow \n",
      "two-game weekend series with the New York Yankees . Skinny Brown and Hoyt Wilh\n",
      "helm , plans to bring the entire New York squad here from St. Petersburg , inc\n",
      "rld record earlier this month in New York with a clocking of 1.09.3 , wiped ou\n",
      "March 17 ( AP ) -- Two errors by New York Yankee shortstop Tony Kubek in the e\n",
      "ti , Ohio ( AP ) -- The powerful New York Yankees won their 19th world series \n",
      "th annual dinner and show of the New York Chapter , Baseball Writers' Associat\n",
      "urn of a National League club to New York . Named by Mayor Wagner three years \n",
      "d the Dodgers to California left New York with only the Yankees . Despite coun\n",
      " league , the Continental , with New York as the key franchise . The Continent\n",
      " . Flushing stadium in works The New York franchise is headed by Mrs. Charles \n",
      " born in Manhattan . He attended New York University before switching to Georg\n",
      "C to the majors , from Joplin to New York . With the speed and power of the bo\n",
      "Cancer Research Foundation . The New York Metropolitan Opera Company will be h\n",
      "tengel takes over as boss of the New York Mets , he'll be the only baseballigh\n",
      " ever to wear the uniform of all New York area clubs , past and present : Yank\n",
      "9 miles from Tucson , Ariz. , to New York City : set for influx I can testify \n",
      "nnumerable motels from Tucson to New York boast swimming pools ( `` swim at yo\n",
      ", an American couple formerly of New York City ) . In their suburban cottage t\n",
      "geles , Mrs. Lucy Brett Andrew , New York City , and Mrs. Beatrice Kiefferm , \n",
      "y , and Mrs. Beatrice Kiefferm , New York City , and five grandchildren . Empl\n",
      " months . Mr. Brooks was born in New York , and came to Portland in 1920 . He \n",
      "ars imprisonment on conviction . New York -- ( UPI ) -- The New York Universit\n",
      "ion . New York -- ( UPI ) -- The New York University Board of Trustees has ele\n",
      "do just as good a job as the big New York investment bankers claim only they c\n",
      "r for Isodine Pharmical Corp. of New York . The 33 honored students are : Mike\n",
      " believe we can permit that '' . New York ( AP ) -- Stock market Tuesday stage\n",
      "None\n"
     ]
    }
   ],
   "source": [
    "from nltk.corpus import brown\n",
    "nltk.download('stopwords')\n",
    "text = nltk.Text(brown.words(brown.fileids()[0:100]))\n",
    "print(text.collocations())\n",
    "print(text.concordance('York', lines=30))"
   ]
  },
  {
   "cell_type": "code",
   "execution_count": null,
   "metadata": {},
   "outputs": [],
   "source": []
  }
 ],
 "metadata": {
  "kernelspec": {
   "display_name": "Python 3",
   "language": "python",
   "name": "python3"
  },
  "language_info": {
   "codemirror_mode": {
    "name": "ipython",
    "version": 3
   },
   "file_extension": ".py",
   "mimetype": "text/x-python",
   "name": "python",
   "nbconvert_exporter": "python",
   "pygments_lexer": "ipython3",
   "version": "3.6.1"
  }
 },
 "nbformat": 4,
 "nbformat_minor": 2
}
